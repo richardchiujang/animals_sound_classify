{
 "cells": [
  {
   "cell_type": "code",
   "execution_count": 231,
   "metadata": {},
   "outputs": [],
   "source": [
    "#! /usr/bin/python\n",
    "# taken from http://stackoverflow.com/questions/30619740/python-downsampling-wav-audio-file\n",
    "\n",
    "import wave\n",
    "import audioop\n",
    "import sys\n",
    "import os"
   ]
  },
  {
   "cell_type": "code",
   "execution_count": 232,
   "metadata": {},
   "outputs": [],
   "source": [
    "# 這會將 44100khz 的 wav 轉成 16khz 的 wav\n",
    "# \n",
    "\n",
    "def downsampleWav(src, dst, inrate=44100, outrate=16000, inchannels=1, outchannels=1):\n",
    "    if not os.path.exists(src):\n",
    "        print( 'Source not found!')\n",
    "        return False\n",
    "\n",
    "    if not os.path.exists(os.path.dirname(dst)):\n",
    "        os.makedirs(os.path.dirname(dst))\n",
    "\n",
    "    try:\n",
    "        s_read = wave.open(src, 'r')\n",
    "        s_write = wave.open(dst, 'w')\n",
    "    except:\n",
    "        print( 'Failed to open files!')\n",
    "        return False\n",
    "\n",
    "    n_frames = s_read.getnframes()\n",
    "    data = s_read.readframes(n_frames)\n",
    "\n",
    "    try:\n",
    "        converted = audioop.ratecv(data, 2, inchannels, inrate, outrate, None)\n",
    "        if outchannels == 1 & inchannels != 1:\n",
    "            converted[0] = audioop.tomono(converted[0], 2, 1, 0)\n",
    "    except:\n",
    "        print( 'Failed to downsample wav')\n",
    "        return False\n",
    "\n",
    "    try:\n",
    "        s_write.setparams((outchannels, 2, outrate, 0, 'NONE', 'Uncompressed'))\n",
    "        s_write.writeframes(converted[0])\n",
    "    except:\n",
    "        print( 'Failed to write wav')\n",
    "        return False\n",
    "\n",
    "    try:\n",
    "        s_read.close()\n",
    "        s_write.close()\n",
    "    except:\n",
    "        print( 'Failed to close wav files')\n",
    "        return False\n",
    "\n",
    "    return True\n"
   ]
  },
  {
   "cell_type": "code",
   "execution_count": 233,
   "metadata": {},
   "outputs": [],
   "source": [
    "# PATH_TRAIN_IN_WAVS = '../birdclef_data/TrainingSet/wav/LIFECLEF2015_BIRDAMAZON_XC_WAV_RN16099.wav'\n",
    "# PATH_TRAIN_IN_16KWAVS = '../birdclef_data/TrainingSet/wav_16khz/ALIFECLEF2015_BIRDAMAZON_XC_WAV_RN16099.wav'\n",
    "\n",
    "PATH_TRAIN_IN_WAVS = '../birdclef_data/TrainingSet/wav/'\n",
    "PATH_TRAIN_IN_16KWAVS = '../birdclef_data/TrainingSet/wav_16khz/'\n",
    "\n",
    "# src = PATH_TRAIN_IN_WAVS\n",
    "# dst = PATH_TRAIN_IN_16KWAVS\n",
    "dirmp3  = '../birdclef_data/TrainingSet/mp3/'\n",
    "dirPath = '../birdclef_data/TrainingSet/wav/'\n",
    "dstPath = '../birdclef_data/TrainingSet/wav_16khz/'"
   ]
  },
  {
   "cell_type": "code",
   "execution_count": 248,
   "metadata": {},
   "outputs": [],
   "source": [
    "# 用來將mp3轉成wav\n",
    "\n",
    "from pydub import AudioSegment\n"
   ]
  },
  {
   "cell_type": "code",
   "execution_count": 250,
   "metadata": {},
   "outputs": [],
   "source": [
    "# 用來將mp3轉成wav\n",
    "\n",
    "def loadmp3s(dirmp3, dirPath):\n",
    "    sub_path = os.listdir(dirmp3)\n",
    "    for sub_path in sub_path:\n",
    "#         print(sub_path)\n",
    "        for path, subdirs, files in os.walk(dirmp3+sub_path):\n",
    "            for name in files:\n",
    "                if name.endswith(\".mp3\"):\n",
    "                    src = path + '/' + name\n",
    "                    dst = dirPath + sub_path + '/' + name.split(\".\")[0] + \".wav\"\n",
    "                    \n",
    "                    if not os.path.exists(os.path.dirname(dst)):\n",
    "                        os.makedirs(os.path.dirname(dst))\n",
    "                    \n",
    "                    sound = AudioSegment.from_mp3(src)\n",
    "                    sound.export(dst, format=\"wav\")\n",
    "                    print(src, ' to ', dst)\n",
    "                    \n",
    "    return print(\"......convert mp3 to wav finishied............\")\n"
   ]
  },
  {
   "cell_type": "code",
   "execution_count": 252,
   "metadata": {},
   "outputs": [
    {
     "name": "stdout",
     "output_type": "stream",
     "text": [
      "loadmp3s....\n",
      "../birdclef_data/TrainingSet/mp3/test/sample-000001.mp3  to  ../birdclef_data/TrainingSet/wav/test/sample-000001.wav\n",
      "../birdclef_data/TrainingSet/mp3/test/sample-000000.mp3  to  ../birdclef_data/TrainingSet/wav/test/sample-000000.wav\n",
      "../birdclef_data/TrainingSet/mp3/test/sample-000002.mp3  to  ../birdclef_data/TrainingSet/wav/test/sample-000002.wav\n",
      "......convert mp3 to wav finishied............\n"
     ]
    }
   ],
   "source": [
    "print(\"loadmp3s....\")\n",
    "loadmp3s(dirmp3, dirPath)"
   ]
  },
  {
   "cell_type": "code",
   "execution_count": null,
   "metadata": {},
   "outputs": [],
   "source": []
  },
  {
   "cell_type": "code",
   "execution_count": 253,
   "metadata": {},
   "outputs": [],
   "source": [
    "# function to load the wave files from dirPath\n",
    "# ##############################################################################\n",
    "# 請注意 這只能處理一層資料夾\n",
    "# 例如 ../birdclef_data/TrainingSet/wav/wav01 --> ../birdclef_data/TrainingSet/wav_16khz/wav01_16khz\n",
    "#     ../birdclef_data/TrainingSet/wav/wav02 --> ../birdclef_data/TrainingSet/wav_16khz/wav02_16khz\n",
    "#     ../birdclef_data/TrainingSet/wav/wav03 --> ../birdclef_data/TrainingSet/wav_16khz/wav03_16khz\n",
    "# 如果 資料夾下還有子資料夾，他會被混在自己的 \"目標母資料夾\" 內\n",
    "# 例如 ../birdclef_data/TrainingSet/wav/wav01/wav01_01 \n",
    "# 就會被丟到 ../birdclef_data/TrainingSet/wav_16khz/wav01_16khz 中\n",
    "# ##############################################################################\n",
    "\n",
    "\n",
    "\n",
    "def loadWavs(dirPath, dstPath):\n",
    "    sub_path = os.listdir(dirPath)\n",
    "    for sub_path in sub_path:\n",
    "        for path, subdirs, files in os.walk(dirPath+sub_path):\n",
    "            for name in files:\n",
    "                if name.endswith(\".wav\"):\n",
    "                    src = path + '/' + name\n",
    "                    dst = dstPath + sub_path + '_16khz/' + name.split(\".\")[0] + \".wav\"\n",
    "#                     print(src, ' to ', dst)\n",
    "                    downsampleWav(src, dst) \n",
    "                    \n",
    "    return print(\"......convert all finishied............\")\n",
    "\n"
   ]
  },
  {
   "cell_type": "code",
   "execution_count": 254,
   "metadata": {},
   "outputs": [
    {
     "name": "stdout",
     "output_type": "stream",
     "text": [
      "......convert all finishied............\n"
     ]
    }
   ],
   "source": [
    "l = loadWavs(dirPath, dstPath)"
   ]
  },
  {
   "cell_type": "code",
   "execution_count": null,
   "metadata": {},
   "outputs": [],
   "source": []
  },
  {
   "cell_type": "code",
   "execution_count": null,
   "metadata": {},
   "outputs": [],
   "source": []
  },
  {
   "cell_type": "code",
   "execution_count": null,
   "metadata": {},
   "outputs": [],
   "source": []
  },
  {
   "cell_type": "code",
   "execution_count": null,
   "metadata": {},
   "outputs": [],
   "source": []
  },
  {
   "cell_type": "code",
   "execution_count": null,
   "metadata": {},
   "outputs": [],
   "source": []
  },
  {
   "cell_type": "code",
   "execution_count": null,
   "metadata": {},
   "outputs": [],
   "source": []
  },
  {
   "cell_type": "code",
   "execution_count": 187,
   "metadata": {},
   "outputs": [
    {
     "data": {
      "text/plain": [
       "['wav02', 'wav01', 'wav00', '.ipynb_checkpoints']"
      ]
     },
     "execution_count": 187,
     "metadata": {},
     "output_type": "execute_result"
    }
   ],
   "source": [
    "# os.listdir(dirPath)"
   ]
  },
  {
   "cell_type": "code",
   "execution_count": null,
   "metadata": {},
   "outputs": [],
   "source": [
    "# if __name__ == \"__main__\":\n",
    "#     path_in = src\n",
    "#     path_out = dst\n",
    "\n",
    "#     for file in os.listdir(path_in):\n",
    "#         if file.endswith(\".wav\"):\n",
    "#             src = path_in + file \n",
    "#             dst = path_out + file.split(\".\")[0] + \".wav\"\n",
    "#             downsampleWav(src, dst)        \n",
    "\n",
    "\n",
    "# print(\"Finished\")   "
   ]
  },
  {
   "cell_type": "code",
   "execution_count": null,
   "metadata": {},
   "outputs": [],
   "source": []
  }
 ],
 "metadata": {
  "kernelspec": {
   "display_name": "Python 3",
   "language": "python",
   "name": "python3"
  },
  "language_info": {
   "codemirror_mode": {
    "name": "ipython",
    "version": 3
   },
   "file_extension": ".py",
   "mimetype": "text/x-python",
   "name": "python",
   "nbconvert_exporter": "python",
   "pygments_lexer": "ipython3",
   "version": "3.6.3"
  }
 },
 "nbformat": 4,
 "nbformat_minor": 2
}
